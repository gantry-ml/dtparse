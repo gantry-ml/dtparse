{
 "cells": [
  {
   "cell_type": "markdown",
   "id": "27d653e2",
   "metadata": {},
   "source": [
    "## Gantry Setup"
   ]
  },
  {
   "cell_type": "code",
   "execution_count": 1,
   "id": "58af3226",
   "metadata": {},
   "outputs": [
    {
     "name": "stderr",
     "output_type": "stream",
     "text": [
      "/Users/abhishyant/.pyenv/versions/3.10.8/lib/python3.10/site-packages/requests/__init__.py:109: RequestsDependencyWarning: urllib3 (1.26.12) or chardet (5.1.0)/charset_normalizer (2.0.12) doesn't match a supported version!\n",
      "  warnings.warn(\n",
      "/Users/abhishyant/.pyenv/versions/3.10.8/lib/python3.10/site-packages/tqdm/auto.py:22: TqdmWarning: IProgress not found. Please update jupyter and ipywidgets. See https://ipywidgets.readthedocs.io/en/stable/user_install.html\n",
      "  from .autonotebook import tqdm as notebook_tqdm\n",
      "You haven't set dataset working directory yet, by default Gantry will use /Users/abhishyant/dtparse. You can overwrite the default settingusing set_working_directory method.\n"
     ]
    }
   ],
   "source": [
    "import gantry\n",
    "import os\n",
    "from gantry.llm import EvaluationRun\n",
    "import gantry.dataset as gdataset"
   ]
  },
  {
   "cell_type": "markdown",
   "id": "7aacbe5b",
   "metadata": {},
   "source": [
    "First, let's list out all our runs in the dataset."
   ]
  },
  {
   "cell_type": "code",
   "execution_count": 2,
   "id": "3216d9e9",
   "metadata": {},
   "outputs": [
    {
     "data": {
      "text/plain": [
       "['run_2023_03_21_15_33_25 (bug)', 'run_2023_03_21_15_33_40 (latest, fix)']"
      ]
     },
     "execution_count": 2,
     "metadata": {},
     "output_type": "execute_result"
    }
   ],
   "source": [
    "eval_dataset = gdataset.get_dataset(\"evaluation_dataset\")\n",
    "eval_dataset.list_runs()"
   ]
  },
  {
   "cell_type": "markdown",
   "id": "1ef7ce72",
   "metadata": {},
   "source": [
    "We can see we have a run tagged as `bug`, and a run tagged as both `latest` and `fix`. We can instantiate the run using either the tag or the run identifier:"
   ]
  },
  {
   "cell_type": "code",
   "execution_count": 3,
   "id": "7ae605e9",
   "metadata": {},
   "outputs": [],
   "source": [
    "fix_run = EvaluationRun.from_tag(eval_dataset, \"fix\")\n",
    "# TODO: change the run id here from the output above\n",
    "fix_run = EvaluationRun(eval_dataset, \"run_2023_03_21_15_33_40\")"
   ]
  },
  {
   "cell_type": "markdown",
   "id": "90535aef",
   "metadata": {},
   "source": [
    "Now, we can compare how this run did vs our \"bug\" run. We can see that the \"bug\" run results did not perform so well in actually changing the current date."
   ]
  },
  {
   "cell_type": "code",
   "execution_count": 4,
   "id": "e5fa631c",
   "metadata": {},
   "outputs": [
    {
     "name": "stderr",
     "output_type": "stream",
     "text": [
      "Found cached dataset evaluation_dataset (/Users/abhishyant/.cache/huggingface/datasets/evaluation_dataset/default/1.0.0/e7ef4713320a358cbca2622ffb2632fd603a097322c4aa889fbaf8f9a94b4bff)\n",
      "Found cached dataset evaluation_dataset (/Users/abhishyant/.cache/huggingface/datasets/evaluation_dataset/default/1.0.0/e7ef4713320a358cbca2622ffb2632fd603a097322c4aa889fbaf8f9a94b4bff)\n"
     ]
    },
    {
     "data": {
      "text/html": [
       "<div>\n",
       "<style scoped>\n",
       "    .dataframe tbody tr th:only-of-type {\n",
       "        vertical-align: middle;\n",
       "    }\n",
       "\n",
       "    .dataframe tbody tr th {\n",
       "        vertical-align: top;\n",
       "    }\n",
       "\n",
       "    .dataframe thead th {\n",
       "        text-align: right;\n",
       "    }\n",
       "</style>\n",
       "<table border=\"1\" class=\"dataframe\">\n",
       "  <thead>\n",
       "    <tr style=\"text-align: right;\">\n",
       "      <th></th>\n",
       "      <th>date</th>\n",
       "      <th>label</th>\n",
       "      <th>request</th>\n",
       "      <th>time</th>\n",
       "      <th>run_2023_03_21_15_33_40_output (latest, fix)</th>\n",
       "      <th>run_2023_03_21_15_33_25_output (bug)</th>\n",
       "    </tr>\n",
       "  </thead>\n",
       "  <tbody>\n",
       "    <tr>\n",
       "      <th>0</th>\n",
       "      <td>2023-02-23</td>\n",
       "      <td>2023-02-26 12:00:00</td>\n",
       "      <td>noon Sunday</td>\n",
       "      <td>11:48:05</td>\n",
       "      <td>2023-02-26 12:00:00</td>\n",
       "      <td>2023-02-23 12:00:00</td>\n",
       "    </tr>\n",
       "    <tr>\n",
       "      <th>1</th>\n",
       "      <td>2023-02-23</td>\n",
       "      <td>2023-02-19 12:00:00</td>\n",
       "      <td>noon last Sunday</td>\n",
       "      <td>12:47:57</td>\n",
       "      <td>2023-02-19 12:00:00</td>\n",
       "      <td>2023-02-24 12:00:00</td>\n",
       "    </tr>\n",
       "  </tbody>\n",
       "</table>\n",
       "</div>"
      ],
      "text/plain": [
       "         date                label           request      time  \\\n",
       "0  2023-02-23  2023-02-26 12:00:00       noon Sunday  11:48:05   \n",
       "1  2023-02-23  2023-02-19 12:00:00  noon last Sunday  12:47:57   \n",
       "\n",
       "  run_2023_03_21_15_33_40_output (latest, fix)  \\\n",
       "0                          2023-02-26 12:00:00   \n",
       "1                          2023-02-19 12:00:00   \n",
       "\n",
       "  run_2023_03_21_15_33_25_output (bug)  \n",
       "0                  2023-02-23 12:00:00  \n",
       "1                  2023-02-24 12:00:00  "
      ]
     },
     "execution_count": 4,
     "metadata": {},
     "output_type": "execute_result"
    }
   ],
   "source": [
    "fix_run.compare_to_runs(tags=[\"bug\"])"
   ]
  },
  {
   "cell_type": "markdown",
   "id": "40e51c16",
   "metadata": {},
   "source": [
    "We can also compare via run id directly."
   ]
  },
  {
   "cell_type": "code",
   "execution_count": 5,
   "id": "c43e94b5",
   "metadata": {},
   "outputs": [
    {
     "name": "stderr",
     "output_type": "stream",
     "text": [
      "Found cached dataset evaluation_dataset (/Users/abhishyant/.cache/huggingface/datasets/evaluation_dataset/default/1.0.0/e7ef4713320a358cbca2622ffb2632fd603a097322c4aa889fbaf8f9a94b4bff)\n",
      "Found cached dataset evaluation_dataset (/Users/abhishyant/.cache/huggingface/datasets/evaluation_dataset/default/1.0.0/e7ef4713320a358cbca2622ffb2632fd603a097322c4aa889fbaf8f9a94b4bff)\n"
     ]
    },
    {
     "data": {
      "text/html": [
       "<div>\n",
       "<style scoped>\n",
       "    .dataframe tbody tr th:only-of-type {\n",
       "        vertical-align: middle;\n",
       "    }\n",
       "\n",
       "    .dataframe tbody tr th {\n",
       "        vertical-align: top;\n",
       "    }\n",
       "\n",
       "    .dataframe thead th {\n",
       "        text-align: right;\n",
       "    }\n",
       "</style>\n",
       "<table border=\"1\" class=\"dataframe\">\n",
       "  <thead>\n",
       "    <tr style=\"text-align: right;\">\n",
       "      <th></th>\n",
       "      <th>date</th>\n",
       "      <th>label</th>\n",
       "      <th>request</th>\n",
       "      <th>time</th>\n",
       "      <th>run_2023_03_21_15_33_40_output (latest, fix)</th>\n",
       "      <th>run_2023_03_21_15_33_25_output (bug)</th>\n",
       "    </tr>\n",
       "  </thead>\n",
       "  <tbody>\n",
       "    <tr>\n",
       "      <th>0</th>\n",
       "      <td>2023-02-23</td>\n",
       "      <td>2023-02-26 12:00:00</td>\n",
       "      <td>noon Sunday</td>\n",
       "      <td>11:48:05</td>\n",
       "      <td>2023-02-26 12:00:00</td>\n",
       "      <td>2023-02-23 12:00:00</td>\n",
       "    </tr>\n",
       "    <tr>\n",
       "      <th>1</th>\n",
       "      <td>2023-02-23</td>\n",
       "      <td>2023-02-19 12:00:00</td>\n",
       "      <td>noon last Sunday</td>\n",
       "      <td>12:47:57</td>\n",
       "      <td>2023-02-19 12:00:00</td>\n",
       "      <td>2023-02-24 12:00:00</td>\n",
       "    </tr>\n",
       "  </tbody>\n",
       "</table>\n",
       "</div>"
      ],
      "text/plain": [
       "         date                label           request      time  \\\n",
       "0  2023-02-23  2023-02-26 12:00:00       noon Sunday  11:48:05   \n",
       "1  2023-02-23  2023-02-19 12:00:00  noon last Sunday  12:47:57   \n",
       "\n",
       "  run_2023_03_21_15_33_40_output (latest, fix)  \\\n",
       "0                          2023-02-26 12:00:00   \n",
       "1                          2023-02-19 12:00:00   \n",
       "\n",
       "  run_2023_03_21_15_33_25_output (bug)  \n",
       "0                  2023-02-23 12:00:00  \n",
       "1                  2023-02-24 12:00:00  "
      ]
     },
     "execution_count": 5,
     "metadata": {},
     "output_type": "execute_result"
    }
   ],
   "source": [
    "# TODO: change the run id here to be the id for the \"bug\" run\n",
    "fix_run.compare_to_runs(run_ids=[\"run_2023_03_21_15_33_25\"])"
   ]
  },
  {
   "cell_type": "markdown",
   "id": "20a947d0",
   "metadata": {},
   "source": [
    "We can also compare all the runs in the dataset if we don't pass in any parameters."
   ]
  },
  {
   "cell_type": "code",
   "execution_count": 6,
   "id": "72cc6bc2",
   "metadata": {},
   "outputs": [
    {
     "name": "stderr",
     "output_type": "stream",
     "text": [
      "Found cached dataset evaluation_dataset (/Users/abhishyant/.cache/huggingface/datasets/evaluation_dataset/default/1.0.0/e7ef4713320a358cbca2622ffb2632fd603a097322c4aa889fbaf8f9a94b4bff)\n",
      "Found cached dataset evaluation_dataset (/Users/abhishyant/.cache/huggingface/datasets/evaluation_dataset/default/1.0.0/e7ef4713320a358cbca2622ffb2632fd603a097322c4aa889fbaf8f9a94b4bff)\n"
     ]
    },
    {
     "data": {
      "text/html": [
       "<div>\n",
       "<style scoped>\n",
       "    .dataframe tbody tr th:only-of-type {\n",
       "        vertical-align: middle;\n",
       "    }\n",
       "\n",
       "    .dataframe tbody tr th {\n",
       "        vertical-align: top;\n",
       "    }\n",
       "\n",
       "    .dataframe thead th {\n",
       "        text-align: right;\n",
       "    }\n",
       "</style>\n",
       "<table border=\"1\" class=\"dataframe\">\n",
       "  <thead>\n",
       "    <tr style=\"text-align: right;\">\n",
       "      <th></th>\n",
       "      <th>date</th>\n",
       "      <th>label</th>\n",
       "      <th>request</th>\n",
       "      <th>time</th>\n",
       "      <th>run_2023_03_21_15_33_40_output (latest, fix)</th>\n",
       "      <th>run_2023_03_21_15_33_25_output (bug)</th>\n",
       "    </tr>\n",
       "  </thead>\n",
       "  <tbody>\n",
       "    <tr>\n",
       "      <th>0</th>\n",
       "      <td>2023-02-23</td>\n",
       "      <td>2023-02-26 12:00:00</td>\n",
       "      <td>noon Sunday</td>\n",
       "      <td>11:48:05</td>\n",
       "      <td>2023-02-26 12:00:00</td>\n",
       "      <td>2023-02-23 12:00:00</td>\n",
       "    </tr>\n",
       "    <tr>\n",
       "      <th>1</th>\n",
       "      <td>2023-02-23</td>\n",
       "      <td>2023-02-19 12:00:00</td>\n",
       "      <td>noon last Sunday</td>\n",
       "      <td>12:47:57</td>\n",
       "      <td>2023-02-19 12:00:00</td>\n",
       "      <td>2023-02-24 12:00:00</td>\n",
       "    </tr>\n",
       "  </tbody>\n",
       "</table>\n",
       "</div>"
      ],
      "text/plain": [
       "         date                label           request      time  \\\n",
       "0  2023-02-23  2023-02-26 12:00:00       noon Sunday  11:48:05   \n",
       "1  2023-02-23  2023-02-19 12:00:00  noon last Sunday  12:47:57   \n",
       "\n",
       "  run_2023_03_21_15_33_40_output (latest, fix)  \\\n",
       "0                          2023-02-26 12:00:00   \n",
       "1                          2023-02-19 12:00:00   \n",
       "\n",
       "  run_2023_03_21_15_33_25_output (bug)  \n",
       "0                  2023-02-23 12:00:00  \n",
       "1                  2023-02-24 12:00:00  "
      ]
     },
     "execution_count": 6,
     "metadata": {},
     "output_type": "execute_result"
    }
   ],
   "source": [
    "fix_run.compare_to_runs()"
   ]
  },
  {
   "cell_type": "markdown",
   "id": "b2b215b9",
   "metadata": {},
   "source": [
    "Finally, we can view the metrics available for our run"
   ]
  },
  {
   "cell_type": "code",
   "execution_count": 7,
   "id": "4bb1ce33",
   "metadata": {},
   "outputs": [
    {
     "name": "stderr",
     "output_type": "stream",
     "text": [
      "Found cached dataset evaluation_dataset (/Users/abhishyant/.cache/huggingface/datasets/evaluation_dataset/default/1.0.0/e7ef4713320a358cbca2622ffb2632fd603a097322c4aa889fbaf8f9a94b4bff)\n",
      "Found cached dataset evaluation_dataset (/Users/abhishyant/.cache/huggingface/datasets/evaluation_dataset/default/1.0.0/e7ef4713320a358cbca2622ffb2632fd603a097322c4aa889fbaf8f9a94b4bff)\n"
     ]
    },
    {
     "data": {
      "text/plain": [
       "{'exact_match': 1.0}"
      ]
     },
     "execution_count": 7,
     "metadata": {},
     "output_type": "execute_result"
    }
   ],
   "source": [
    "fix_run.metrics"
   ]
  },
  {
   "cell_type": "code",
   "execution_count": null,
   "id": "b8fc80d2",
   "metadata": {},
   "outputs": [],
   "source": [
    "  "
   ]
  }
 ],
 "metadata": {
  "kernelspec": {
   "display_name": "Python 3 (ipykernel)",
   "language": "python",
   "name": "python3"
  },
  "language_info": {
   "codemirror_mode": {
    "name": "ipython",
    "version": 3
   },
   "file_extension": ".py",
   "mimetype": "text/x-python",
   "name": "python",
   "nbconvert_exporter": "python",
   "pygments_lexer": "ipython3",
   "version": "3.10.8"
  }
 },
 "nbformat": 4,
 "nbformat_minor": 5
}
