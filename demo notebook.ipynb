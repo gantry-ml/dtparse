{
 "cells": [
  {
   "cell_type": "markdown",
   "id": "27d653e2",
   "metadata": {},
   "source": [
    "## Gantry Setup"
   ]
  },
  {
   "cell_type": "code",
   "execution_count": 32,
   "id": "58af3226",
   "metadata": {},
   "outputs": [
    {
     "name": "stdout",
     "output_type": "stream",
     "text": [
      "env: GANTRY_LOGS_LOCATION=https://app.staging.gantry.io\n",
      "2023-03-16 20:07:17,713 gantry.dataset.main WARNING  You haven't set dataset working directory yet, by default Gantry will use /Users/abhishyant/dtparse. You can overwrite the default settingusing set_working_directory method.\n"
     ]
    }
   ],
   "source": [
    "import gantry\n",
    "import os\n",
    "from gantry.llm import EvaluationRun\n",
    "\n",
    "gantry.init(api_key=os.environ.get(\"GANTRY_API_KEY\"))"
   ]
  },
  {
   "cell_type": "markdown",
   "id": "7aacbe5b",
   "metadata": {},
   "source": [
    "First, let's instantiate the latest run. To do this, let's get the evaluation dataset, and then create a run from the \"latest tag\". The \"latest\" tag always points to the most recent run."
   ]
  },
  {
   "cell_type": "markdown",
   "id": "a323ef89",
   "metadata": {},
   "source": [
    "eval_dataset = gantry.dataset.get_dataset(\"eval_set\")\n",
    "run = EvaluationRun.from_tag(eval_dataset, \"latest\")"
   ]
  },
  {
   "cell_type": "markdown",
   "id": "90535aef",
   "metadata": {},
   "source": [
    "Now, we can compare how this run did vs our \"stable\" run. We can see that the stable run results did not perform so well in actually changing the current date."
   ]
  },
  {
   "cell_type": "code",
   "execution_count": 42,
   "id": "e5fa631c",
   "metadata": {},
   "outputs": [
    {
     "name": "stderr",
     "output_type": "stream",
     "text": [
      "Found cached dataset eval_set (/Users/abhishyant/.cache/huggingface/datasets/eval_set/default/1.0.0/2db72dca8b7b9c61447b7f432cc01f7b7ff471d43c5d44a2fe1a041db5897dc4)\n",
      "Found cached dataset eval_set (/Users/abhishyant/.cache/huggingface/datasets/eval_set/default/1.0.0/2db72dca8b7b9c61447b7f432cc01f7b7ff471d43c5d44a2fe1a041db5897dc4)\n"
     ]
    },
    {
     "data": {
      "text/html": [
       "<div>\n",
       "<style scoped>\n",
       "    .dataframe tbody tr th:only-of-type {\n",
       "        vertical-align: middle;\n",
       "    }\n",
       "\n",
       "    .dataframe tbody tr th {\n",
       "        vertical-align: top;\n",
       "    }\n",
       "\n",
       "    .dataframe thead th {\n",
       "        text-align: right;\n",
       "    }\n",
       "</style>\n",
       "<table border=\"1\" class=\"dataframe\">\n",
       "  <thead>\n",
       "    <tr style=\"text-align: right;\">\n",
       "      <th></th>\n",
       "      <th>date</th>\n",
       "      <th>join_key</th>\n",
       "      <th>label</th>\n",
       "      <th>request</th>\n",
       "      <th>time</th>\n",
       "      <th>run_2023_03_17_10_37_41 (latest)</th>\n",
       "      <th>run_2023_03_17_10_37_09 (stable)</th>\n",
       "    </tr>\n",
       "  </thead>\n",
       "  <tbody>\n",
       "    <tr>\n",
       "      <th>0</th>\n",
       "      <td>2023-02-23</td>\n",
       "      <td>6fb45602094ff5855364ac2a1a82216b</td>\n",
       "      <td>2023-02-26 12:00:00</td>\n",
       "      <td>noon Sunday</td>\n",
       "      <td>11:48:05</td>\n",
       "      <td>2023-02-26 12:00:00</td>\n",
       "      <td>2023-02-23 12:00:00</td>\n",
       "    </tr>\n",
       "    <tr>\n",
       "      <th>1</th>\n",
       "      <td>2023-02-23</td>\n",
       "      <td>12d0f1ac26f71d70def75a6fd872804c</td>\n",
       "      <td>2023-02-19 12:00:00</td>\n",
       "      <td>noon last Sunday</td>\n",
       "      <td>12:47:57</td>\n",
       "      <td>2023-02-19 12:00:00</td>\n",
       "      <td>2023-02-24 12:00:00</td>\n",
       "    </tr>\n",
       "  </tbody>\n",
       "</table>\n",
       "</div>"
      ],
      "text/plain": [
       "         date                          join_key                label  \\\n",
       "0  2023-02-23  6fb45602094ff5855364ac2a1a82216b  2023-02-26 12:00:00   \n",
       "1  2023-02-23  12d0f1ac26f71d70def75a6fd872804c  2023-02-19 12:00:00   \n",
       "\n",
       "            request      time run_2023_03_17_10_37_41 (latest)  \\\n",
       "0       noon Sunday  11:48:05              2023-02-26 12:00:00   \n",
       "1  noon last Sunday  12:47:57              2023-02-19 12:00:00   \n",
       "\n",
       "  run_2023_03_17_10_37_09 (stable)  \n",
       "0              2023-02-23 12:00:00  \n",
       "1              2023-02-24 12:00:00  "
      ]
     },
     "execution_count": 42,
     "metadata": {},
     "output_type": "execute_result"
    }
   ],
   "source": [
    "run.compare_to_runs(tags=[\"stable\"])"
   ]
  },
  {
   "cell_type": "markdown",
   "id": "20a947d0",
   "metadata": {},
   "source": [
    "Let's view just our current run's results."
   ]
  },
  {
   "cell_type": "code",
   "execution_count": 43,
   "id": "72cc6bc2",
   "metadata": {},
   "outputs": [
    {
     "name": "stderr",
     "output_type": "stream",
     "text": [
      "Found cached dataset eval_set (/Users/abhishyant/.cache/huggingface/datasets/eval_set/default/1.0.0/2db72dca8b7b9c61447b7f432cc01f7b7ff471d43c5d44a2fe1a041db5897dc4)\n"
     ]
    },
    {
     "data": {
      "text/html": [
       "<div>\n",
       "<style scoped>\n",
       "    .dataframe tbody tr th:only-of-type {\n",
       "        vertical-align: middle;\n",
       "    }\n",
       "\n",
       "    .dataframe tbody tr th {\n",
       "        vertical-align: top;\n",
       "    }\n",
       "\n",
       "    .dataframe thead th {\n",
       "        text-align: right;\n",
       "    }\n",
       "</style>\n",
       "<table border=\"1\" class=\"dataframe\">\n",
       "  <thead>\n",
       "    <tr style=\"text-align: right;\">\n",
       "      <th></th>\n",
       "      <th>date</th>\n",
       "      <th>join_key</th>\n",
       "      <th>label</th>\n",
       "      <th>request</th>\n",
       "      <th>time</th>\n",
       "      <th>run_2023_03_17_10_37_41 (latest)</th>\n",
       "    </tr>\n",
       "  </thead>\n",
       "  <tbody>\n",
       "    <tr>\n",
       "      <th>0</th>\n",
       "      <td>2023-02-23</td>\n",
       "      <td>6fb45602094ff5855364ac2a1a82216b</td>\n",
       "      <td>2023-02-26 12:00:00</td>\n",
       "      <td>noon Sunday</td>\n",
       "      <td>11:48:05</td>\n",
       "      <td>2023-02-26 12:00:00</td>\n",
       "    </tr>\n",
       "    <tr>\n",
       "      <th>1</th>\n",
       "      <td>2023-02-23</td>\n",
       "      <td>12d0f1ac26f71d70def75a6fd872804c</td>\n",
       "      <td>2023-02-19 12:00:00</td>\n",
       "      <td>noon last Sunday</td>\n",
       "      <td>12:47:57</td>\n",
       "      <td>2023-02-19 12:00:00</td>\n",
       "    </tr>\n",
       "  </tbody>\n",
       "</table>\n",
       "</div>"
      ],
      "text/plain": [
       "         date                          join_key                label  \\\n",
       "0  2023-02-23  6fb45602094ff5855364ac2a1a82216b  2023-02-26 12:00:00   \n",
       "1  2023-02-23  12d0f1ac26f71d70def75a6fd872804c  2023-02-19 12:00:00   \n",
       "\n",
       "            request      time run_2023_03_17_10_37_41 (latest)  \n",
       "0       noon Sunday  11:48:05              2023-02-26 12:00:00  \n",
       "1  noon last Sunday  12:47:57              2023-02-19 12:00:00  "
      ]
     },
     "execution_count": 43,
     "metadata": {},
     "output_type": "execute_result"
    }
   ],
   "source": [
    "run.results"
   ]
  },
  {
   "cell_type": "markdown",
   "id": "b2b215b9",
   "metadata": {},
   "source": [
    "Let's view the metrics available for our run"
   ]
  },
  {
   "cell_type": "code",
   "execution_count": 44,
   "id": "4bb1ce33",
   "metadata": {},
   "outputs": [
    {
     "name": "stderr",
     "output_type": "stream",
     "text": [
      "Found cached dataset eval_set (/Users/abhishyant/.cache/huggingface/datasets/eval_set/default/1.0.0/2db72dca8b7b9c61447b7f432cc01f7b7ff471d43c5d44a2fe1a041db5897dc4)\n",
      "Found cached dataset eval_set (/Users/abhishyant/.cache/huggingface/datasets/eval_set/default/1.0.0/2db72dca8b7b9c61447b7f432cc01f7b7ff471d43c5d44a2fe1a041db5897dc4)\n"
     ]
    },
    {
     "data": {
      "text/plain": [
       "{'exact_match': 1.0}"
      ]
     },
     "execution_count": 44,
     "metadata": {},
     "output_type": "execute_result"
    }
   ],
   "source": [
    "run.metrics"
   ]
  },
  {
   "cell_type": "code",
   "execution_count": null,
   "id": "b8fc80d2",
   "metadata": {},
   "outputs": [],
   "source": [
    "  "
   ]
  }
 ],
 "metadata": {
  "kernelspec": {
   "display_name": "Python 3 (ipykernel)",
   "language": "python",
   "name": "python3"
  },
  "language_info": {
   "codemirror_mode": {
    "name": "ipython",
    "version": 3
   },
   "file_extension": ".py",
   "mimetype": "text/x-python",
   "name": "python",
   "nbconvert_exporter": "python",
   "pygments_lexer": "ipython3",
   "version": "3.10.8"
  }
 },
 "nbformat": 4,
 "nbformat_minor": 5
}
