{
 "cells": [
  {
   "cell_type": "markdown",
   "id": "27d653e2",
   "metadata": {},
   "source": [
    "## Gantry Setup"
   ]
  },
  {
   "cell_type": "code",
   "execution_count": 1,
   "id": "58af3226",
   "metadata": {},
   "outputs": [
    {
     "name": "stderr",
     "output_type": "stream",
     "text": [
      "/Users/abhishyant/.pyenv/versions/3.10.8/lib/python3.10/site-packages/requests/__init__.py:109: RequestsDependencyWarning: urllib3 (1.26.12) or chardet (5.1.0)/charset_normalizer (2.0.12) doesn't match a supported version!\n",
      "  warnings.warn(\n",
      "/Users/abhishyant/.pyenv/versions/3.10.8/lib/python3.10/site-packages/tqdm/auto.py:22: TqdmWarning: IProgress not found. Please update jupyter and ipywidgets. See https://ipywidgets.readthedocs.io/en/stable/user_install.html\n",
      "  from .autonotebook import tqdm as notebook_tqdm\n",
      "You haven't set dataset working directory yet, by default Gantry will use /Users/abhishyant/dtparse. You can overwrite the default settingusing set_working_directory method.\n"
     ]
    }
   ],
   "source": [
    "import gantry\n",
    "import os\n",
    "from gantry.llm import EvaluationRun\n",
    "import gantry.dataset as gdataset"
   ]
  },
  {
   "cell_type": "markdown",
   "id": "7aacbe5b",
   "metadata": {},
   "source": [
    "First, let's list out all our runs in the dataset."
   ]
  },
  {
   "cell_type": "code",
   "execution_count": 2,
   "id": "3216d9e9",
   "metadata": {},
   "outputs": [
    {
     "data": {
      "text/plain": [
       "['run_2023_03_21_15_33_25',\n",
       " 'run_2023_03_21_15_33_40',\n",
       " 'run_2023_03_21_17_16_38',\n",
       " 'run_2023_03_21_17_25_54 (bug)',\n",
       " 'run_2023_03_21_17_26_11 (latest, fix)',\n",
       " 'run_2023_03_21_17_17_05']"
      ]
     },
     "execution_count": 2,
     "metadata": {},
     "output_type": "execute_result"
    }
   ],
   "source": [
    "eval_dataset = gdataset.get_dataset(\"evaluation_dataset\")\n",
    "eval_dataset.list_runs()"
   ]
  },
  {
   "cell_type": "code",
   "execution_count": 3,
   "id": "8a23d0ea",
   "metadata": {},
   "outputs": [],
   "source": [
    "# TODO: change the run ids here from the output above\n",
    "fix_run_id = 'run_2023_03_21_17_26_11'\n",
    "bug_run_id = 'run_2023_03_21_17_25_54'"
   ]
  },
  {
   "cell_type": "markdown",
   "id": "eddc0054",
   "metadata": {},
   "source": [
    "We can see we have a run tagged as `bug`, and a run tagged as both `latest` and `fix`. We can instantiate the run using either the tag or the run identifier:"
   ]
  },
  {
   "cell_type": "code",
   "execution_count": 4,
   "id": "7ae605e9",
   "metadata": {},
   "outputs": [],
   "source": [
    "fix_run = EvaluationRun.from_tag(eval_dataset, \"fix\")\n",
    "fix_run = EvaluationRun(eval_dataset, fix_run_id)"
   ]
  },
  {
   "cell_type": "markdown",
   "id": "90535aef",
   "metadata": {},
   "source": [
    "Now, we can compare how this run did vs our \"bug\" run."
   ]
  },
  {
   "cell_type": "code",
   "execution_count": 5,
   "id": "e5fa631c",
   "metadata": {},
   "outputs": [
    {
     "name": "stderr",
     "output_type": "stream",
     "text": [
      "Found cached dataset evaluation_dataset (/Users/abhishyant/.cache/huggingface/datasets/evaluation_dataset/default/1.0.0/29c7befd9cc42ed58a3d38362835c4a5e355c60dd7c20cfc3bb7e6ed0c93f998)\n",
      "Found cached dataset evaluation_dataset (/Users/abhishyant/.cache/huggingface/datasets/evaluation_dataset/default/1.0.0/29c7befd9cc42ed58a3d38362835c4a5e355c60dd7c20cfc3bb7e6ed0c93f998)\n"
     ]
    },
    {
     "data": {
      "text/html": [
       "<div>\n",
       "<style scoped>\n",
       "    .dataframe tbody tr th:only-of-type {\n",
       "        vertical-align: middle;\n",
       "    }\n",
       "\n",
       "    .dataframe tbody tr th {\n",
       "        vertical-align: top;\n",
       "    }\n",
       "\n",
       "    .dataframe thead th {\n",
       "        text-align: right;\n",
       "    }\n",
       "</style>\n",
       "<table border=\"1\" class=\"dataframe\">\n",
       "  <thead>\n",
       "    <tr style=\"text-align: right;\">\n",
       "      <th></th>\n",
       "      <th>inputs.date</th>\n",
       "      <th>inputs.request</th>\n",
       "      <th>inputs.time</th>\n",
       "      <th>label</th>\n",
       "      <th>run_2023_03_21_17_26_11_output (latest, fix)</th>\n",
       "      <th>run_2023_03_21_17_25_54_output (bug)</th>\n",
       "    </tr>\n",
       "  </thead>\n",
       "  <tbody>\n",
       "    <tr>\n",
       "      <th>0</th>\n",
       "      <td>2023-02-23</td>\n",
       "      <td>noon Sunday</td>\n",
       "      <td>11:48:05</td>\n",
       "      <td>2023-02-26 12:00:00</td>\n",
       "      <td>2023-02-26 12:00:00</td>\n",
       "      <td>2023-02-23 12:00:00</td>\n",
       "    </tr>\n",
       "    <tr>\n",
       "      <th>1</th>\n",
       "      <td>2023-02-23</td>\n",
       "      <td>noon last Sunday</td>\n",
       "      <td>12:47:57</td>\n",
       "      <td>2023-02-19 12:00:00</td>\n",
       "      <td>2023-02-19 12:00:00</td>\n",
       "      <td>2023-02-24 12:00:00</td>\n",
       "    </tr>\n",
       "  </tbody>\n",
       "</table>\n",
       "</div>"
      ],
      "text/plain": [
       "  inputs.date    inputs.request inputs.time                label  \\\n",
       "0  2023-02-23       noon Sunday    11:48:05  2023-02-26 12:00:00   \n",
       "1  2023-02-23  noon last Sunday    12:47:57  2023-02-19 12:00:00   \n",
       "\n",
       "  run_2023_03_21_17_26_11_output (latest, fix)  \\\n",
       "0                          2023-02-26 12:00:00   \n",
       "1                          2023-02-19 12:00:00   \n",
       "\n",
       "  run_2023_03_21_17_25_54_output (bug)  \n",
       "0                  2023-02-23 12:00:00  \n",
       "1                  2023-02-24 12:00:00  "
      ]
     },
     "execution_count": 5,
     "metadata": {},
     "output_type": "execute_result"
    }
   ],
   "source": [
    "fix_run.compare_to_runs(tags=[\"bug\"])"
   ]
  },
  {
   "cell_type": "markdown",
   "id": "361233b3",
   "metadata": {},
   "source": [
    "It can be a bit difficult to immediately see the difference in the outputs with just a side by side comparison. To get a nicer diff, we can use the `diff_outputs` function."
   ]
  },
  {
   "cell_type": "code",
   "execution_count": 6,
   "id": "a913ccb8",
   "metadata": {},
   "outputs": [
    {
     "name": "stderr",
     "output_type": "stream",
     "text": [
      "Found cached dataset evaluation_dataset (/Users/abhishyant/.cache/huggingface/datasets/evaluation_dataset/default/1.0.0/29c7befd9cc42ed58a3d38362835c4a5e355c60dd7c20cfc3bb7e6ed0c93f998)\n",
      "Found cached dataset evaluation_dataset (/Users/abhishyant/.cache/huggingface/datasets/evaluation_dataset/default/1.0.0/29c7befd9cc42ed58a3d38362835c4a5e355c60dd7c20cfc3bb7e6ed0c93f998)\n"
     ]
    },
    {
     "name": "stdout",
     "output_type": "stream",
     "text": [
      "Inputs:\n",
      "{'date': '2023-02-23', 'request': 'noon Sunday', 'time': '11:48:05'}\n",
      "-----------------\n",
      "*** run_2023_03_21_17_26_11_output (latest, fix)\n",
      "--- run_2023_03_21_17_25_54_output (bug)\n",
      "***************\n",
      "*** 1 ****\n",
      "! 2023-02-26 12:00:00\n",
      "--- 1 ----\n",
      "! 2023-02-23 12:00:00\n",
      "\n",
      "Inputs:\n",
      "{'date': '2023-02-23', 'request': 'noon last Sunday', 'time': '12:47:57'}\n",
      "-----------------\n",
      "*** run_2023_03_21_17_26_11_output (latest, fix)\n",
      "--- run_2023_03_21_17_25_54_output (bug)\n",
      "***************\n",
      "*** 1 ****\n",
      "! 2023-02-19 12:00:00\n",
      "--- 1 ----\n",
      "! 2023-02-24 12:00:00\n",
      "\n"
     ]
    }
   ],
   "source": [
    "fix_run.diff_outputs(tag=\"bug\")"
   ]
  },
  {
   "cell_type": "markdown",
   "id": "38cca065",
   "metadata": {},
   "source": [
    "Finally, we can view the metrics available for our run"
   ]
  },
  {
   "cell_type": "code",
   "execution_count": 7,
   "id": "5533bd36",
   "metadata": {},
   "outputs": [
    {
     "name": "stderr",
     "output_type": "stream",
     "text": [
      "Found cached dataset evaluation_dataset (/Users/abhishyant/.cache/huggingface/datasets/evaluation_dataset/default/1.0.0/29c7befd9cc42ed58a3d38362835c4a5e355c60dd7c20cfc3bb7e6ed0c93f998)\n",
      "Found cached dataset evaluation_dataset (/Users/abhishyant/.cache/huggingface/datasets/evaluation_dataset/default/1.0.0/29c7befd9cc42ed58a3d38362835c4a5e355c60dd7c20cfc3bb7e6ed0c93f998)\n"
     ]
    },
    {
     "data": {
      "text/plain": [
       "{'exact_match': 1.0}"
      ]
     },
     "execution_count": 7,
     "metadata": {},
     "output_type": "execute_result"
    }
   ],
   "source": [
    "fix_run.metrics"
   ]
  },
  {
   "cell_type": "markdown",
   "id": "d2492ef2",
   "metadata": {},
   "source": [
    "### Misc Commands"
   ]
  },
  {
   "cell_type": "markdown",
   "id": "696ea723",
   "metadata": {},
   "source": [
    "We also support a couple different ways of comparing runs. First, we can compare via run_id directly"
   ]
  },
  {
   "cell_type": "code",
   "execution_count": 8,
   "id": "83994c01",
   "metadata": {},
   "outputs": [
    {
     "name": "stderr",
     "output_type": "stream",
     "text": [
      "Found cached dataset evaluation_dataset (/Users/abhishyant/.cache/huggingface/datasets/evaluation_dataset/default/1.0.0/29c7befd9cc42ed58a3d38362835c4a5e355c60dd7c20cfc3bb7e6ed0c93f998)\n",
      "Found cached dataset evaluation_dataset (/Users/abhishyant/.cache/huggingface/datasets/evaluation_dataset/default/1.0.0/29c7befd9cc42ed58a3d38362835c4a5e355c60dd7c20cfc3bb7e6ed0c93f998)\n"
     ]
    },
    {
     "data": {
      "text/html": [
       "<div>\n",
       "<style scoped>\n",
       "    .dataframe tbody tr th:only-of-type {\n",
       "        vertical-align: middle;\n",
       "    }\n",
       "\n",
       "    .dataframe tbody tr th {\n",
       "        vertical-align: top;\n",
       "    }\n",
       "\n",
       "    .dataframe thead th {\n",
       "        text-align: right;\n",
       "    }\n",
       "</style>\n",
       "<table border=\"1\" class=\"dataframe\">\n",
       "  <thead>\n",
       "    <tr style=\"text-align: right;\">\n",
       "      <th></th>\n",
       "      <th>inputs.date</th>\n",
       "      <th>inputs.request</th>\n",
       "      <th>inputs.time</th>\n",
       "      <th>label</th>\n",
       "      <th>run_2023_03_21_17_26_11_output (latest, fix)</th>\n",
       "      <th>run_2023_03_21_17_25_54_output (bug)</th>\n",
       "    </tr>\n",
       "  </thead>\n",
       "  <tbody>\n",
       "    <tr>\n",
       "      <th>0</th>\n",
       "      <td>2023-02-23</td>\n",
       "      <td>noon Sunday</td>\n",
       "      <td>11:48:05</td>\n",
       "      <td>2023-02-26 12:00:00</td>\n",
       "      <td>2023-02-26 12:00:00</td>\n",
       "      <td>2023-02-23 12:00:00</td>\n",
       "    </tr>\n",
       "    <tr>\n",
       "      <th>1</th>\n",
       "      <td>2023-02-23</td>\n",
       "      <td>noon last Sunday</td>\n",
       "      <td>12:47:57</td>\n",
       "      <td>2023-02-19 12:00:00</td>\n",
       "      <td>2023-02-19 12:00:00</td>\n",
       "      <td>2023-02-24 12:00:00</td>\n",
       "    </tr>\n",
       "  </tbody>\n",
       "</table>\n",
       "</div>"
      ],
      "text/plain": [
       "  inputs.date    inputs.request inputs.time                label  \\\n",
       "0  2023-02-23       noon Sunday    11:48:05  2023-02-26 12:00:00   \n",
       "1  2023-02-23  noon last Sunday    12:47:57  2023-02-19 12:00:00   \n",
       "\n",
       "  run_2023_03_21_17_26_11_output (latest, fix)  \\\n",
       "0                          2023-02-26 12:00:00   \n",
       "1                          2023-02-19 12:00:00   \n",
       "\n",
       "  run_2023_03_21_17_25_54_output (bug)  \n",
       "0                  2023-02-23 12:00:00  \n",
       "1                  2023-02-24 12:00:00  "
      ]
     },
     "execution_count": 8,
     "metadata": {},
     "output_type": "execute_result"
    }
   ],
   "source": [
    "fix_run.compare_to_runs(run_ids=[bug_run_id])"
   ]
  },
  {
   "cell_type": "markdown",
   "id": "20a947d0",
   "metadata": {},
   "source": [
    "We can also compare all the runs in the dataset if we don't pass in any parameters."
   ]
  },
  {
   "cell_type": "code",
   "execution_count": 9,
   "id": "72cc6bc2",
   "metadata": {},
   "outputs": [
    {
     "name": "stderr",
     "output_type": "stream",
     "text": [
      "Found cached dataset evaluation_dataset (/Users/abhishyant/.cache/huggingface/datasets/evaluation_dataset/default/1.0.0/29c7befd9cc42ed58a3d38362835c4a5e355c60dd7c20cfc3bb7e6ed0c93f998)\n",
      "Found cached dataset evaluation_dataset (/Users/abhishyant/.cache/huggingface/datasets/evaluation_dataset/default/1.0.0/29c7befd9cc42ed58a3d38362835c4a5e355c60dd7c20cfc3bb7e6ed0c93f998)\n",
      "Found cached dataset evaluation_dataset (/Users/abhishyant/.cache/huggingface/datasets/evaluation_dataset/default/1.0.0/29c7befd9cc42ed58a3d38362835c4a5e355c60dd7c20cfc3bb7e6ed0c93f998)\n",
      "Found cached dataset evaluation_dataset (/Users/abhishyant/.cache/huggingface/datasets/evaluation_dataset/default/1.0.0/29c7befd9cc42ed58a3d38362835c4a5e355c60dd7c20cfc3bb7e6ed0c93f998)\n",
      "Found cached dataset evaluation_dataset (/Users/abhishyant/.cache/huggingface/datasets/evaluation_dataset/default/1.0.0/29c7befd9cc42ed58a3d38362835c4a5e355c60dd7c20cfc3bb7e6ed0c93f998)\n",
      "Found cached dataset evaluation_dataset (/Users/abhishyant/.cache/huggingface/datasets/evaluation_dataset/default/1.0.0/29c7befd9cc42ed58a3d38362835c4a5e355c60dd7c20cfc3bb7e6ed0c93f998)\n"
     ]
    },
    {
     "data": {
      "text/html": [
       "<div>\n",
       "<style scoped>\n",
       "    .dataframe tbody tr th:only-of-type {\n",
       "        vertical-align: middle;\n",
       "    }\n",
       "\n",
       "    .dataframe tbody tr th {\n",
       "        vertical-align: top;\n",
       "    }\n",
       "\n",
       "    .dataframe thead th {\n",
       "        text-align: right;\n",
       "    }\n",
       "</style>\n",
       "<table border=\"1\" class=\"dataframe\">\n",
       "  <thead>\n",
       "    <tr style=\"text-align: right;\">\n",
       "      <th></th>\n",
       "      <th>inputs.date</th>\n",
       "      <th>inputs.request</th>\n",
       "      <th>inputs.time</th>\n",
       "      <th>label</th>\n",
       "      <th>run_2023_03_21_17_26_11_output (latest, fix)</th>\n",
       "      <th>run_2023_03_21_15_33_25</th>\n",
       "      <th>run_2023_03_21_15_33_40</th>\n",
       "      <th>run_2023_03_21_17_16_38</th>\n",
       "      <th>run_2023_03_21_17_25_54_output (bug)</th>\n",
       "      <th>run_2023_03_21_17_17_05</th>\n",
       "    </tr>\n",
       "  </thead>\n",
       "  <tbody>\n",
       "    <tr>\n",
       "      <th>0</th>\n",
       "      <td>2023-02-23</td>\n",
       "      <td>noon Sunday</td>\n",
       "      <td>11:48:05</td>\n",
       "      <td>2023-02-26 12:00:00</td>\n",
       "      <td>2023-02-26 12:00:00</td>\n",
       "      <td>False</td>\n",
       "      <td>False</td>\n",
       "      <td>2023-02-23 12:00:00</td>\n",
       "      <td>2023-02-23 12:00:00</td>\n",
       "      <td>2023-02-26 12:00:00</td>\n",
       "    </tr>\n",
       "    <tr>\n",
       "      <th>1</th>\n",
       "      <td>2023-02-23</td>\n",
       "      <td>noon last Sunday</td>\n",
       "      <td>12:47:57</td>\n",
       "      <td>2023-02-19 12:00:00</td>\n",
       "      <td>2023-02-19 12:00:00</td>\n",
       "      <td>False</td>\n",
       "      <td>False</td>\n",
       "      <td>2023-02-24 12:00:00</td>\n",
       "      <td>2023-02-24 12:00:00</td>\n",
       "      <td>2023-02-19 12:00:00</td>\n",
       "    </tr>\n",
       "  </tbody>\n",
       "</table>\n",
       "</div>"
      ],
      "text/plain": [
       "  inputs.date    inputs.request inputs.time                label  \\\n",
       "0  2023-02-23       noon Sunday    11:48:05  2023-02-26 12:00:00   \n",
       "1  2023-02-23  noon last Sunday    12:47:57  2023-02-19 12:00:00   \n",
       "\n",
       "  run_2023_03_21_17_26_11_output (latest, fix)  run_2023_03_21_15_33_25  \\\n",
       "0                          2023-02-26 12:00:00                    False   \n",
       "1                          2023-02-19 12:00:00                    False   \n",
       "\n",
       "   run_2023_03_21_15_33_40 run_2023_03_21_17_16_38  \\\n",
       "0                    False     2023-02-23 12:00:00   \n",
       "1                    False     2023-02-24 12:00:00   \n",
       "\n",
       "  run_2023_03_21_17_25_54_output (bug) run_2023_03_21_17_17_05  \n",
       "0                  2023-02-23 12:00:00     2023-02-26 12:00:00  \n",
       "1                  2023-02-24 12:00:00     2023-02-19 12:00:00  "
      ]
     },
     "execution_count": 9,
     "metadata": {},
     "output_type": "execute_result"
    }
   ],
   "source": [
    "fix_run.compare_to_runs()"
   ]
  },
  {
   "cell_type": "markdown",
   "id": "66f0bbe1",
   "metadata": {},
   "source": [
    "Finally, we can also specify a run id in the `diff_outputs` function as well"
   ]
  },
  {
   "cell_type": "code",
   "execution_count": 10,
   "id": "e5b357fe",
   "metadata": {},
   "outputs": [
    {
     "name": "stderr",
     "output_type": "stream",
     "text": [
      "Found cached dataset evaluation_dataset (/Users/abhishyant/.cache/huggingface/datasets/evaluation_dataset/default/1.0.0/29c7befd9cc42ed58a3d38362835c4a5e355c60dd7c20cfc3bb7e6ed0c93f998)\n",
      "Found cached dataset evaluation_dataset (/Users/abhishyant/.cache/huggingface/datasets/evaluation_dataset/default/1.0.0/29c7befd9cc42ed58a3d38362835c4a5e355c60dd7c20cfc3bb7e6ed0c93f998)\n"
     ]
    },
    {
     "name": "stdout",
     "output_type": "stream",
     "text": [
      "Inputs:\n",
      "{'date': '2023-02-23', 'request': 'noon Sunday', 'time': '11:48:05'}\n",
      "-----------------\n",
      "*** run_2023_03_21_17_26_11_output (latest, fix)\n",
      "--- run_2023_03_21_17_25_54_output (bug)\n",
      "***************\n",
      "*** 1 ****\n",
      "! 2023-02-26 12:00:00\n",
      "--- 1 ----\n",
      "! 2023-02-23 12:00:00\n",
      "\n",
      "Inputs:\n",
      "{'date': '2023-02-23', 'request': 'noon last Sunday', 'time': '12:47:57'}\n",
      "-----------------\n",
      "*** run_2023_03_21_17_26_11_output (latest, fix)\n",
      "--- run_2023_03_21_17_25_54_output (bug)\n",
      "***************\n",
      "*** 1 ****\n",
      "! 2023-02-19 12:00:00\n",
      "--- 1 ----\n",
      "! 2023-02-24 12:00:00\n",
      "\n"
     ]
    }
   ],
   "source": [
    "fix_run.diff_outputs(run_id=bug_run_id)"
   ]
  },
  {
   "cell_type": "code",
   "execution_count": null,
   "id": "4ba79b29",
   "metadata": {},
   "outputs": [],
   "source": []
  }
 ],
 "metadata": {
  "kernelspec": {
   "display_name": "Python 3 (ipykernel)",
   "language": "python",
   "name": "python3"
  },
  "language_info": {
   "codemirror_mode": {
    "name": "ipython",
    "version": 3
   },
   "file_extension": ".py",
   "mimetype": "text/x-python",
   "name": "python",
   "nbconvert_exporter": "python",
   "pygments_lexer": "ipython3",
   "version": "3.10.8"
  }
 },
 "nbformat": 4,
 "nbformat_minor": 5
}
