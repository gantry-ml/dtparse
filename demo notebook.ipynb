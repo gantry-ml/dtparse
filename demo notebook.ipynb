{
 "cells": [
  {
   "cell_type": "markdown",
   "id": "27d653e2",
   "metadata": {},
   "source": [
    "## Gantry Setup"
   ]
  },
  {
   "cell_type": "code",
   "execution_count": 1,
   "id": "58af3226",
   "metadata": {},
   "outputs": [
    {
     "name": "stderr",
     "output_type": "stream",
     "text": [
      "/Users/abhishyant/.pyenv/versions/3.10.8/lib/python3.10/site-packages/requests/__init__.py:109: RequestsDependencyWarning: urllib3 (1.26.12) or chardet (5.1.0)/charset_normalizer (2.0.12) doesn't match a supported version!\n",
      "  warnings.warn(\n",
      "/Users/abhishyant/.pyenv/versions/3.10.8/lib/python3.10/site-packages/tqdm/auto.py:22: TqdmWarning: IProgress not found. Please update jupyter and ipywidgets. See https://ipywidgets.readthedocs.io/en/stable/user_install.html\n",
      "  from .autonotebook import tqdm as notebook_tqdm\n",
      "You haven't set dataset working directory yet, by default Gantry will use /Users/abhishyant/dtparse. You can overwrite the default settingusing set_working_directory method.\n"
     ]
    }
   ],
   "source": [
    "import gantry\n",
    "import os\n",
    "from gantry.llm import EvaluationRun\n",
    "import gantry.dataset as gdataset"
   ]
  },
  {
   "cell_type": "markdown",
   "id": "7aacbe5b",
   "metadata": {},
   "source": [
    "First, let's list out all our runs in the dataset."
   ]
  },
  {
   "cell_type": "code",
   "execution_count": 2,
   "id": "3216d9e9",
   "metadata": {},
   "outputs": [],
   "source": [
    "eval_dataset = gdataset.get_dataset(\"evaluation_dataset\")\n",
    "eval_dataset.list_runs()\n",
    "# TODO: change the run ids here from the output below\n",
    "fix_run_id = 'run_2023_03_21_15_33_40'\n",
    "bug_run_id = 'run_2023_03_21_15_33_25'"
   ]
  },
  {
   "cell_type": "markdown",
   "id": "9af204f9",
   "metadata": {},
   "source": [
    "We can see we have a run tagged as `bug`, and a run tagged as both `latest` and `fix`. We can instantiate the run using either the tag or the run identifier:"
   ]
  },
  {
   "cell_type": "code",
   "execution_count": 3,
   "id": "7ae605e9",
   "metadata": {},
   "outputs": [],
   "source": [
    "fix_run = EvaluationRun.from_tag(eval_dataset, \"fix\")\n",
    "fix_run = EvaluationRun(eval_dataset, fix_run_id)"
   ]
  },
  {
   "cell_type": "markdown",
   "id": "90535aef",
   "metadata": {},
   "source": [
    "Now, we can compare how this run did vs our \"bug\" run."
   ]
  },
  {
   "cell_type": "code",
   "execution_count": 4,
   "id": "e5fa631c",
   "metadata": {},
   "outputs": [
    {
     "name": "stderr",
     "output_type": "stream",
     "text": [
      "Found cached dataset evaluation_dataset (/Users/abhishyant/.cache/huggingface/datasets/evaluation_dataset/default/1.0.0/e7ef4713320a358cbca2622ffb2632fd603a097322c4aa889fbaf8f9a94b4bff)\n",
      "Found cached dataset evaluation_dataset (/Users/abhishyant/.cache/huggingface/datasets/evaluation_dataset/default/1.0.0/e7ef4713320a358cbca2622ffb2632fd603a097322c4aa889fbaf8f9a94b4bff)\n"
     ]
    },
    {
     "data": {
      "text/html": [
       "<div>\n",
       "<style scoped>\n",
       "    .dataframe tbody tr th:only-of-type {\n",
       "        vertical-align: middle;\n",
       "    }\n",
       "\n",
       "    .dataframe tbody tr th {\n",
       "        vertical-align: top;\n",
       "    }\n",
       "\n",
       "    .dataframe thead th {\n",
       "        text-align: right;\n",
       "    }\n",
       "</style>\n",
       "<table border=\"1\" class=\"dataframe\">\n",
       "  <thead>\n",
       "    <tr style=\"text-align: right;\">\n",
       "      <th></th>\n",
       "      <th>date</th>\n",
       "      <th>label</th>\n",
       "      <th>request</th>\n",
       "      <th>time</th>\n",
       "      <th>run_2023_03_21_15_33_40_output (latest, fix)</th>\n",
       "      <th>run_2023_03_21_15_33_25_output (bug)</th>\n",
       "    </tr>\n",
       "  </thead>\n",
       "  <tbody>\n",
       "    <tr>\n",
       "      <th>0</th>\n",
       "      <td>2023-02-23</td>\n",
       "      <td>2023-02-26 12:00:00</td>\n",
       "      <td>noon Sunday</td>\n",
       "      <td>11:48:05</td>\n",
       "      <td>2023-02-26 12:00:00</td>\n",
       "      <td>2023-02-23 12:00:00</td>\n",
       "    </tr>\n",
       "    <tr>\n",
       "      <th>1</th>\n",
       "      <td>2023-02-23</td>\n",
       "      <td>2023-02-19 12:00:00</td>\n",
       "      <td>noon last Sunday</td>\n",
       "      <td>12:47:57</td>\n",
       "      <td>2023-02-19 12:00:00</td>\n",
       "      <td>2023-02-24 12:00:00</td>\n",
       "    </tr>\n",
       "  </tbody>\n",
       "</table>\n",
       "</div>"
      ],
      "text/plain": [
       "         date                label           request      time  \\\n",
       "0  2023-02-23  2023-02-26 12:00:00       noon Sunday  11:48:05   \n",
       "1  2023-02-23  2023-02-19 12:00:00  noon last Sunday  12:47:57   \n",
       "\n",
       "  run_2023_03_21_15_33_40_output (latest, fix)  \\\n",
       "0                          2023-02-26 12:00:00   \n",
       "1                          2023-02-19 12:00:00   \n",
       "\n",
       "  run_2023_03_21_15_33_25_output (bug)  \n",
       "0                  2023-02-23 12:00:00  \n",
       "1                  2023-02-24 12:00:00  "
      ]
     },
     "execution_count": 4,
     "metadata": {},
     "output_type": "execute_result"
    }
   ],
   "source": [
    "fix_run.compare_to_runs(tags=[\"bug\"])"
   ]
  },
  {
   "cell_type": "markdown",
   "id": "3133e931",
   "metadata": {},
   "source": [
    "It can be a bit difficult to immediately see the differnce in the outputs with just a side by side comparison. To get a nicer diff, we can use the `diff_outputs` function."
   ]
  },
  {
   "cell_type": "code",
   "execution_count": 5,
   "id": "b5d18d23",
   "metadata": {},
   "outputs": [
    {
     "name": "stderr",
     "output_type": "stream",
     "text": [
      "Found cached dataset evaluation_dataset (/Users/abhishyant/.cache/huggingface/datasets/evaluation_dataset/default/1.0.0/e7ef4713320a358cbca2622ffb2632fd603a097322c4aa889fbaf8f9a94b4bff)\n",
      "Found cached dataset evaluation_dataset (/Users/abhishyant/.cache/huggingface/datasets/evaluation_dataset/default/1.0.0/e7ef4713320a358cbca2622ffb2632fd603a097322c4aa889fbaf8f9a94b4bff)\n"
     ]
    },
    {
     "ename": "KeyError",
     "evalue": "None",
     "output_type": "error",
     "traceback": [
      "\u001b[0;31m---------------------------------------------------------------------------\u001b[0m",
      "\u001b[0;31mKeyError\u001b[0m                                  Traceback (most recent call last)",
      "File \u001b[0;32m~/.pyenv/versions/3.10.8/lib/python3.10/site-packages/pandas/core/indexes/base.py:3629\u001b[0m, in \u001b[0;36mIndex.get_loc\u001b[0;34m(self, key, method, tolerance)\u001b[0m\n\u001b[1;32m   3628\u001b[0m \u001b[38;5;28;01mtry\u001b[39;00m:\n\u001b[0;32m-> 3629\u001b[0m     \u001b[38;5;28;01mreturn\u001b[39;00m \u001b[38;5;28;43mself\u001b[39;49m\u001b[38;5;241;43m.\u001b[39;49m\u001b[43m_engine\u001b[49m\u001b[38;5;241;43m.\u001b[39;49m\u001b[43mget_loc\u001b[49m\u001b[43m(\u001b[49m\u001b[43mcasted_key\u001b[49m\u001b[43m)\u001b[49m\n\u001b[1;32m   3630\u001b[0m \u001b[38;5;28;01mexcept\u001b[39;00m \u001b[38;5;167;01mKeyError\u001b[39;00m \u001b[38;5;28;01mas\u001b[39;00m err:\n",
      "File \u001b[0;32m~/.pyenv/versions/3.10.8/lib/python3.10/site-packages/pandas/_libs/index.pyx:136\u001b[0m, in \u001b[0;36mpandas._libs.index.IndexEngine.get_loc\u001b[0;34m()\u001b[0m\n",
      "File \u001b[0;32m~/.pyenv/versions/3.10.8/lib/python3.10/site-packages/pandas/_libs/index.pyx:163\u001b[0m, in \u001b[0;36mpandas._libs.index.IndexEngine.get_loc\u001b[0;34m()\u001b[0m\n",
      "File \u001b[0;32mpandas/_libs/hashtable_class_helper.pxi:5198\u001b[0m, in \u001b[0;36mpandas._libs.hashtable.PyObjectHashTable.get_item\u001b[0;34m()\u001b[0m\n",
      "File \u001b[0;32mpandas/_libs/hashtable_class_helper.pxi:5206\u001b[0m, in \u001b[0;36mpandas._libs.hashtable.PyObjectHashTable.get_item\u001b[0;34m()\u001b[0m\n",
      "\u001b[0;31mKeyError\u001b[0m: None",
      "\nThe above exception was the direct cause of the following exception:\n",
      "\u001b[0;31mKeyError\u001b[0m                                  Traceback (most recent call last)",
      "Cell \u001b[0;32mIn[5], line 1\u001b[0m\n\u001b[0;32m----> 1\u001b[0m \u001b[43mfix_run\u001b[49m\u001b[38;5;241;43m.\u001b[39;49m\u001b[43mdiff_outputs\u001b[49m\u001b[43m(\u001b[49m\u001b[43mtag\u001b[49m\u001b[38;5;241;43m=\u001b[39;49m\u001b[38;5;124;43m\"\u001b[39;49m\u001b[38;5;124;43mbug\u001b[39;49m\u001b[38;5;124;43m\"\u001b[39;49m\u001b[43m)\u001b[49m\n",
      "File \u001b[0;32m~/gantry/pkg/gantry/llm/evaluation_run.py:125\u001b[0m, in \u001b[0;36mEvaluationRun.diff_outputs\u001b[0;34m(self, run_id, tag)\u001b[0m\n\u001b[1;32m    123\u001b[0m run \u001b[38;5;241m=\u001b[39m EvaluationRun(\u001b[38;5;28mself\u001b[39m\u001b[38;5;241m.\u001b[39mevaluation_dataset, run_id)\n\u001b[1;32m    124\u001b[0m outputs \u001b[38;5;241m=\u001b[39m results[\u001b[38;5;28mself\u001b[39m\u001b[38;5;241m.\u001b[39mget_run_name_formatted_with_tags()]\u001b[38;5;241m.\u001b[39mtolist()\n\u001b[0;32m--> 125\u001b[0m outputs_to_compare \u001b[38;5;241m=\u001b[39m \u001b[43mresults\u001b[49m\u001b[43m[\u001b[49m\u001b[43mrun\u001b[49m\u001b[38;5;241;43m.\u001b[39;49m\u001b[43mget_run_name_formatted_with_tags\u001b[49m\u001b[43m(\u001b[49m\u001b[43m)\u001b[49m\u001b[43m]\u001b[49m\u001b[38;5;241m.\u001b[39mtolist()\n\u001b[1;32m    126\u001b[0m inputs \u001b[38;5;241m=\u001b[39m results[\u001b[38;5;124m\"\u001b[39m\u001b[38;5;124mrequest\u001b[39m\u001b[38;5;124m\"\u001b[39m]\u001b[38;5;241m.\u001b[39mtolist()\n\u001b[1;32m    127\u001b[0m \u001b[38;5;28;01mfor\u001b[39;00m \u001b[38;5;28minput\u001b[39m, output, output_to_compare \u001b[38;5;129;01min\u001b[39;00m \u001b[38;5;28mzip\u001b[39m(inputs, outputs, outputs_to_compare):\n",
      "File \u001b[0;32m~/.pyenv/versions/3.10.8/lib/python3.10/site-packages/pandas/core/frame.py:3505\u001b[0m, in \u001b[0;36mDataFrame.__getitem__\u001b[0;34m(self, key)\u001b[0m\n\u001b[1;32m   3503\u001b[0m \u001b[38;5;28;01mif\u001b[39;00m \u001b[38;5;28mself\u001b[39m\u001b[38;5;241m.\u001b[39mcolumns\u001b[38;5;241m.\u001b[39mnlevels \u001b[38;5;241m>\u001b[39m \u001b[38;5;241m1\u001b[39m:\n\u001b[1;32m   3504\u001b[0m     \u001b[38;5;28;01mreturn\u001b[39;00m \u001b[38;5;28mself\u001b[39m\u001b[38;5;241m.\u001b[39m_getitem_multilevel(key)\n\u001b[0;32m-> 3505\u001b[0m indexer \u001b[38;5;241m=\u001b[39m \u001b[38;5;28;43mself\u001b[39;49m\u001b[38;5;241;43m.\u001b[39;49m\u001b[43mcolumns\u001b[49m\u001b[38;5;241;43m.\u001b[39;49m\u001b[43mget_loc\u001b[49m\u001b[43m(\u001b[49m\u001b[43mkey\u001b[49m\u001b[43m)\u001b[49m\n\u001b[1;32m   3506\u001b[0m \u001b[38;5;28;01mif\u001b[39;00m is_integer(indexer):\n\u001b[1;32m   3507\u001b[0m     indexer \u001b[38;5;241m=\u001b[39m [indexer]\n",
      "File \u001b[0;32m~/.pyenv/versions/3.10.8/lib/python3.10/site-packages/pandas/core/indexes/base.py:3631\u001b[0m, in \u001b[0;36mIndex.get_loc\u001b[0;34m(self, key, method, tolerance)\u001b[0m\n\u001b[1;32m   3629\u001b[0m     \u001b[38;5;28;01mreturn\u001b[39;00m \u001b[38;5;28mself\u001b[39m\u001b[38;5;241m.\u001b[39m_engine\u001b[38;5;241m.\u001b[39mget_loc(casted_key)\n\u001b[1;32m   3630\u001b[0m \u001b[38;5;28;01mexcept\u001b[39;00m \u001b[38;5;167;01mKeyError\u001b[39;00m \u001b[38;5;28;01mas\u001b[39;00m err:\n\u001b[0;32m-> 3631\u001b[0m     \u001b[38;5;28;01mraise\u001b[39;00m \u001b[38;5;167;01mKeyError\u001b[39;00m(key) \u001b[38;5;28;01mfrom\u001b[39;00m \u001b[38;5;21;01merr\u001b[39;00m\n\u001b[1;32m   3632\u001b[0m \u001b[38;5;28;01mexcept\u001b[39;00m \u001b[38;5;167;01mTypeError\u001b[39;00m:\n\u001b[1;32m   3633\u001b[0m     \u001b[38;5;66;03m# If we have a listlike key, _check_indexing_error will raise\u001b[39;00m\n\u001b[1;32m   3634\u001b[0m     \u001b[38;5;66;03m#  InvalidIndexError. Otherwise we fall through and re-raise\u001b[39;00m\n\u001b[1;32m   3635\u001b[0m     \u001b[38;5;66;03m#  the TypeError.\u001b[39;00m\n\u001b[1;32m   3636\u001b[0m     \u001b[38;5;28mself\u001b[39m\u001b[38;5;241m.\u001b[39m_check_indexing_error(key)\n",
      "\u001b[0;31mKeyError\u001b[0m: None"
     ]
    }
   ],
   "source": [
    "fix_run.diff_outputs(tag=\"bug\")"
   ]
  },
  {
   "cell_type": "markdown",
   "id": "93b0cf2e",
   "metadata": {},
   "source": [
    "Finally, we can view the metrics available for our run"
   ]
  },
  {
   "cell_type": "code",
   "execution_count": null,
   "id": "f741985b",
   "metadata": {},
   "outputs": [],
   "source": [
    "fix_run.metrics"
   ]
  },
  {
   "cell_type": "markdown",
   "id": "d6b55a1b",
   "metadata": {},
   "source": [
    "### Misc Commands"
   ]
  },
  {
   "cell_type": "markdown",
   "id": "0366b179",
   "metadata": {},
   "source": [
    "We also support a couple different ways of comparing runs. First, we can compare via run_id directly"
   ]
  },
  {
   "cell_type": "code",
   "execution_count": null,
   "id": "48878fd1",
   "metadata": {},
   "outputs": [],
   "source": [
    "fix_run.compare_to_runs(run_ids=[bug_run_id])"
   ]
  },
  {
   "cell_type": "markdown",
   "id": "20a947d0",
   "metadata": {},
   "source": [
    "We can also compare all the runs in the dataset if we don't pass in any parameters."
   ]
  },
  {
   "cell_type": "code",
   "execution_count": null,
   "id": "72cc6bc2",
   "metadata": {},
   "outputs": [],
   "source": [
    "fix_run.compare_to_runs()"
   ]
  },
  {
   "cell_type": "markdown",
   "id": "1cf98cf1",
   "metadata": {},
   "source": [
    "Finally, we can also specify a run id in the `diff_outputs` function as well"
   ]
  },
  {
   "cell_type": "code",
   "execution_count": null,
   "id": "2c9e1a2b",
   "metadata": {},
   "outputs": [],
   "source": [
    "fix_run.diff_outputs(run_id=bug_run_id)"
   ]
  }
 ],
 "metadata": {
  "kernelspec": {
   "display_name": "Python 3 (ipykernel)",
   "language": "python",
   "name": "python3"
  },
  "language_info": {
   "codemirror_mode": {
    "name": "ipython",
    "version": 3
   },
   "file_extension": ".py",
   "mimetype": "text/x-python",
   "name": "python",
   "nbconvert_exporter": "python",
   "pygments_lexer": "ipython3",
   "version": "3.10.8"
  }
 },
 "nbformat": 4,
 "nbformat_minor": 5
}
